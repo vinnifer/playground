{
 "cells": [
  {
   "cell_type": "code",
   "execution_count": 3,
   "id": "570260a6",
   "metadata": {},
   "outputs": [],
   "source": [
    "import torch\n",
    "import torch.nn.functional as F\n",
    "import matplotlib.pyplot as plt\n",
    "%matplotlib inline"
   ]
  },
  {
   "cell_type": "code",
   "execution_count": 4,
   "id": "49deb0fa",
   "metadata": {},
   "outputs": [
    {
     "data": {
      "text/plain": [
       "['emma', 'olivia', 'ava', 'isabella', 'sophia', 'charlotte', 'mia', 'amelia']"
      ]
     },
     "execution_count": 4,
     "metadata": {},
     "output_type": "execute_result"
    }
   ],
   "source": [
    "words = open('names.txt', 'r').read().splitlines()\n",
    "words[:8]"
   ]
  },
  {
   "cell_type": "code",
   "execution_count": 5,
   "id": "53c9a62c",
   "metadata": {},
   "outputs": [
    {
     "data": {
      "text/plain": [
       "32033"
      ]
     },
     "execution_count": 5,
     "metadata": {},
     "output_type": "execute_result"
    }
   ],
   "source": [
    "len(words)"
   ]
  },
  {
   "cell_type": "code",
   "execution_count": 6,
   "id": "82faf17c",
   "metadata": {},
   "outputs": [
    {
     "name": "stdout",
     "output_type": "stream",
     "text": [
      "{1: 'a', 2: 'b', 3: 'c', 4: 'd', 5: 'e', 6: 'f', 7: 'g', 8: 'h', 9: 'i', 10: 'j', 11: 'k', 12: 'l', 13: 'm', 14: 'n', 15: 'o', 16: 'p', 17: 'q', 18: 'r', 19: 's', 20: 't', 21: 'u', 22: 'v', 23: 'w', 24: 'x', 25: 'y', 26: 'z', 0: '.'}\n"
     ]
    }
   ],
   "source": [
    "# building volcab for characters and mappings to/from integers\n",
    "chars = sorted(list(set(''.join(words))))\n",
    "stoi = {s:i+1 for i,s in enumerate(chars)}\n",
    "stoi['.'] = 0\n",
    "itos = {i:s for s, i in stoi.items()}\n",
    "print(itos)"
   ]
  },
  {
   "cell_type": "code",
   "execution_count": 68,
   "id": "f572bd82",
   "metadata": {},
   "outputs": [],
   "source": [
    "# build the dataset\n",
    "block_size = 3 # context length: how many chs do we take to predict the next one. It's fixed here. \n",
    "X, Y = [], []\n",
    "for w in words:\n",
    "#     print(w)\n",
    "    context = [0] * block_size\n",
    "    for ch in w + '.':\n",
    "        ix = stoi[ch]\n",
    "        X.append(context)\n",
    "        Y.append(ix)\n",
    "#         print(''.join(itos[i] for i in context), '--->', itos[ix])\n",
    "        context = context[1:] + [ix] # crop and append\n",
    "\n",
    "X = torch.tensor(X)\n",
    "Y = torch.tensor(Y)"
   ]
  },
  {
   "cell_type": "code",
   "execution_count": 69,
   "id": "601e5650",
   "metadata": {},
   "outputs": [
    {
     "data": {
      "text/plain": [
       "(torch.Size([228146, 3]), torch.int64, torch.Size([228146]), torch.int64)"
      ]
     },
     "execution_count": 69,
     "metadata": {},
     "output_type": "execute_result"
    }
   ],
   "source": [
    "X.shape, X.dtype, Y.shape, Y.dtype"
   ]
  },
  {
   "cell_type": "code",
   "execution_count": 10,
   "id": "65e60efb",
   "metadata": {},
   "outputs": [],
   "source": [
    "C = torch.randn((27, 2))"
   ]
  },
  {
   "cell_type": "code",
   "execution_count": 12,
   "id": "3cc3e5ce",
   "metadata": {},
   "outputs": [
    {
     "data": {
      "text/plain": [
       "tensor([-1.2803, -0.6814])"
      ]
     },
     "execution_count": 12,
     "metadata": {},
     "output_type": "execute_result"
    }
   ],
   "source": [
    "C[5]"
   ]
  },
  {
   "cell_type": "code",
   "execution_count": 15,
   "id": "305cc8c6",
   "metadata": {},
   "outputs": [
    {
     "data": {
      "text/plain": [
       "tensor([-1.2803, -0.6814])"
      ]
     },
     "execution_count": 15,
     "metadata": {},
     "output_type": "execute_result"
    }
   ],
   "source": [
    "F.one_hot(torch.tensor(5), num_classes=27).float() @ C"
   ]
  },
  {
   "cell_type": "code",
   "execution_count": 19,
   "id": "10fed8e8",
   "metadata": {},
   "outputs": [
    {
     "data": {
      "text/plain": [
       "torch.Size([32, 3, 2])"
      ]
     },
     "execution_count": 19,
     "metadata": {},
     "output_type": "execute_result"
    }
   ],
   "source": [
    "emb = C[X]\n",
    "emb.shape"
   ]
  },
  {
   "cell_type": "code",
   "execution_count": 22,
   "id": "1a2249df",
   "metadata": {},
   "outputs": [
    {
     "data": {
      "text/plain": [
       "tensor([[-1.0833, -0.4459, -1.0833, -0.4459, -1.0833, -0.4459],\n",
       "        [-1.0833, -0.4459, -1.0833, -0.4459, -1.2803, -0.6814],\n",
       "        [-1.0833, -0.4459, -1.2803, -0.6814,  1.6749,  0.5580],\n",
       "        [-1.2803, -0.6814,  1.6749,  0.5580,  1.6749,  0.5580],\n",
       "        [ 1.6749,  0.5580,  1.6749,  0.5580, -1.7591, -1.0244],\n",
       "        [-1.0833, -0.4459, -1.0833, -0.4459, -1.0833, -0.4459],\n",
       "        [-1.0833, -0.4459, -1.0833, -0.4459, -0.8195, -0.2994],\n",
       "        [-1.0833, -0.4459, -0.8195, -0.2994,  1.0779,  0.4264],\n",
       "        [-0.8195, -0.2994,  1.0779,  0.4264, -0.4634,  0.6024],\n",
       "        [ 1.0779,  0.4264, -0.4634,  0.6024, -0.1530,  0.7711],\n",
       "        [-0.4634,  0.6024, -0.1530,  0.7711, -0.4634,  0.6024],\n",
       "        [-0.1530,  0.7711, -0.4634,  0.6024, -1.7591, -1.0244],\n",
       "        [-1.0833, -0.4459, -1.0833, -0.4459, -1.0833, -0.4459],\n",
       "        [-1.0833, -0.4459, -1.0833, -0.4459, -1.7591, -1.0244],\n",
       "        [-1.0833, -0.4459, -1.7591, -1.0244, -0.1530,  0.7711],\n",
       "        [-1.7591, -1.0244, -0.1530,  0.7711, -1.7591, -1.0244],\n",
       "        [-1.0833, -0.4459, -1.0833, -0.4459, -1.0833, -0.4459],\n",
       "        [-1.0833, -0.4459, -1.0833, -0.4459, -0.4634,  0.6024],\n",
       "        [-1.0833, -0.4459, -0.4634,  0.6024, -1.8646, -0.0385],\n",
       "        [-0.4634,  0.6024, -1.8646, -0.0385, -1.7591, -1.0244],\n",
       "        [-1.8646, -0.0385, -1.7591, -1.0244,  1.0685, -2.9699],\n",
       "        [-1.7591, -1.0244,  1.0685, -2.9699, -1.2803, -0.6814],\n",
       "        [ 1.0685, -2.9699, -1.2803, -0.6814,  1.0779,  0.4264],\n",
       "        [-1.2803, -0.6814,  1.0779,  0.4264,  1.0779,  0.4264],\n",
       "        [ 1.0779,  0.4264,  1.0779,  0.4264, -1.7591, -1.0244],\n",
       "        [-1.0833, -0.4459, -1.0833, -0.4459, -1.0833, -0.4459],\n",
       "        [-1.0833, -0.4459, -1.0833, -0.4459, -1.8646, -0.0385],\n",
       "        [-1.0833, -0.4459, -1.8646, -0.0385, -0.8195, -0.2994],\n",
       "        [-1.8646, -0.0385, -0.8195, -0.2994,  1.0888,  0.7881],\n",
       "        [-0.8195, -0.2994,  1.0888,  0.7881, -0.7125,  0.0148],\n",
       "        [ 1.0888,  0.7881, -0.7125,  0.0148, -0.4634,  0.6024],\n",
       "        [-0.7125,  0.0148, -0.4634,  0.6024, -1.7591, -1.0244]])"
      ]
     },
     "execution_count": 22,
     "metadata": {},
     "output_type": "execute_result"
    }
   ],
   "source": [
    "torch.cat([emb[:, 0, :], emb[:, 1, :], emb[:, 2, :]], 1)"
   ]
  },
  {
   "cell_type": "code",
   "execution_count": 24,
   "id": "23ad3cf5",
   "metadata": {},
   "outputs": [
    {
     "data": {
      "text/plain": [
       "tensor([[-1.0833, -0.4459, -1.0833, -0.4459, -1.0833, -0.4459],\n",
       "        [-1.0833, -0.4459, -1.0833, -0.4459, -1.2803, -0.6814],\n",
       "        [-1.0833, -0.4459, -1.2803, -0.6814,  1.6749,  0.5580],\n",
       "        [-1.2803, -0.6814,  1.6749,  0.5580,  1.6749,  0.5580],\n",
       "        [ 1.6749,  0.5580,  1.6749,  0.5580, -1.7591, -1.0244],\n",
       "        [-1.0833, -0.4459, -1.0833, -0.4459, -1.0833, -0.4459],\n",
       "        [-1.0833, -0.4459, -1.0833, -0.4459, -0.8195, -0.2994],\n",
       "        [-1.0833, -0.4459, -0.8195, -0.2994,  1.0779,  0.4264],\n",
       "        [-0.8195, -0.2994,  1.0779,  0.4264, -0.4634,  0.6024],\n",
       "        [ 1.0779,  0.4264, -0.4634,  0.6024, -0.1530,  0.7711],\n",
       "        [-0.4634,  0.6024, -0.1530,  0.7711, -0.4634,  0.6024],\n",
       "        [-0.1530,  0.7711, -0.4634,  0.6024, -1.7591, -1.0244],\n",
       "        [-1.0833, -0.4459, -1.0833, -0.4459, -1.0833, -0.4459],\n",
       "        [-1.0833, -0.4459, -1.0833, -0.4459, -1.7591, -1.0244],\n",
       "        [-1.0833, -0.4459, -1.7591, -1.0244, -0.1530,  0.7711],\n",
       "        [-1.7591, -1.0244, -0.1530,  0.7711, -1.7591, -1.0244],\n",
       "        [-1.0833, -0.4459, -1.0833, -0.4459, -1.0833, -0.4459],\n",
       "        [-1.0833, -0.4459, -1.0833, -0.4459, -0.4634,  0.6024],\n",
       "        [-1.0833, -0.4459, -0.4634,  0.6024, -1.8646, -0.0385],\n",
       "        [-0.4634,  0.6024, -1.8646, -0.0385, -1.7591, -1.0244],\n",
       "        [-1.8646, -0.0385, -1.7591, -1.0244,  1.0685, -2.9699],\n",
       "        [-1.7591, -1.0244,  1.0685, -2.9699, -1.2803, -0.6814],\n",
       "        [ 1.0685, -2.9699, -1.2803, -0.6814,  1.0779,  0.4264],\n",
       "        [-1.2803, -0.6814,  1.0779,  0.4264,  1.0779,  0.4264],\n",
       "        [ 1.0779,  0.4264,  1.0779,  0.4264, -1.7591, -1.0244],\n",
       "        [-1.0833, -0.4459, -1.0833, -0.4459, -1.0833, -0.4459],\n",
       "        [-1.0833, -0.4459, -1.0833, -0.4459, -1.8646, -0.0385],\n",
       "        [-1.0833, -0.4459, -1.8646, -0.0385, -0.8195, -0.2994],\n",
       "        [-1.8646, -0.0385, -0.8195, -0.2994,  1.0888,  0.7881],\n",
       "        [-0.8195, -0.2994,  1.0888,  0.7881, -0.7125,  0.0148],\n",
       "        [ 1.0888,  0.7881, -0.7125,  0.0148, -0.4634,  0.6024],\n",
       "        [-0.7125,  0.0148, -0.4634,  0.6024, -1.7591, -1.0244]])"
      ]
     },
     "execution_count": 24,
     "metadata": {},
     "output_type": "execute_result"
    }
   ],
   "source": [
    "torch.reshape(emb, (32, 6))"
   ]
  },
  {
   "cell_type": "code",
   "execution_count": 26,
   "id": "be4eaa66",
   "metadata": {},
   "outputs": [
    {
     "data": {
      "text/plain": [
       "tensor([[-1.0833, -0.4459, -1.0833, -0.4459, -1.0833, -0.4459],\n",
       "        [-1.0833, -0.4459, -1.0833, -0.4459, -1.2803, -0.6814],\n",
       "        [-1.0833, -0.4459, -1.2803, -0.6814,  1.6749,  0.5580],\n",
       "        [-1.2803, -0.6814,  1.6749,  0.5580,  1.6749,  0.5580],\n",
       "        [ 1.6749,  0.5580,  1.6749,  0.5580, -1.7591, -1.0244],\n",
       "        [-1.0833, -0.4459, -1.0833, -0.4459, -1.0833, -0.4459],\n",
       "        [-1.0833, -0.4459, -1.0833, -0.4459, -0.8195, -0.2994],\n",
       "        [-1.0833, -0.4459, -0.8195, -0.2994,  1.0779,  0.4264],\n",
       "        [-0.8195, -0.2994,  1.0779,  0.4264, -0.4634,  0.6024],\n",
       "        [ 1.0779,  0.4264, -0.4634,  0.6024, -0.1530,  0.7711],\n",
       "        [-0.4634,  0.6024, -0.1530,  0.7711, -0.4634,  0.6024],\n",
       "        [-0.1530,  0.7711, -0.4634,  0.6024, -1.7591, -1.0244],\n",
       "        [-1.0833, -0.4459, -1.0833, -0.4459, -1.0833, -0.4459],\n",
       "        [-1.0833, -0.4459, -1.0833, -0.4459, -1.7591, -1.0244],\n",
       "        [-1.0833, -0.4459, -1.7591, -1.0244, -0.1530,  0.7711],\n",
       "        [-1.7591, -1.0244, -0.1530,  0.7711, -1.7591, -1.0244],\n",
       "        [-1.0833, -0.4459, -1.0833, -0.4459, -1.0833, -0.4459],\n",
       "        [-1.0833, -0.4459, -1.0833, -0.4459, -0.4634,  0.6024],\n",
       "        [-1.0833, -0.4459, -0.4634,  0.6024, -1.8646, -0.0385],\n",
       "        [-0.4634,  0.6024, -1.8646, -0.0385, -1.7591, -1.0244],\n",
       "        [-1.8646, -0.0385, -1.7591, -1.0244,  1.0685, -2.9699],\n",
       "        [-1.7591, -1.0244,  1.0685, -2.9699, -1.2803, -0.6814],\n",
       "        [ 1.0685, -2.9699, -1.2803, -0.6814,  1.0779,  0.4264],\n",
       "        [-1.2803, -0.6814,  1.0779,  0.4264,  1.0779,  0.4264],\n",
       "        [ 1.0779,  0.4264,  1.0779,  0.4264, -1.7591, -1.0244],\n",
       "        [-1.0833, -0.4459, -1.0833, -0.4459, -1.0833, -0.4459],\n",
       "        [-1.0833, -0.4459, -1.0833, -0.4459, -1.8646, -0.0385],\n",
       "        [-1.0833, -0.4459, -1.8646, -0.0385, -0.8195, -0.2994],\n",
       "        [-1.8646, -0.0385, -0.8195, -0.2994,  1.0888,  0.7881],\n",
       "        [-0.8195, -0.2994,  1.0888,  0.7881, -0.7125,  0.0148],\n",
       "        [ 1.0888,  0.7881, -0.7125,  0.0148, -0.4634,  0.6024],\n",
       "        [-0.7125,  0.0148, -0.4634,  0.6024, -1.7591, -1.0244]])"
      ]
     },
     "execution_count": 26,
     "metadata": {},
     "output_type": "execute_result"
    }
   ],
   "source": [
    "torch.cat(torch.unbind(emb, dim=1), dim=1)"
   ]
  },
  {
   "cell_type": "code",
   "execution_count": 30,
   "id": "64dacbdc",
   "metadata": {},
   "outputs": [
    {
     "data": {
      "text/plain": [
       "tensor([[-1.0833, -0.4459, -1.0833, -0.4459, -1.0833, -0.4459],\n",
       "        [-1.0833, -0.4459, -1.0833, -0.4459, -1.2803, -0.6814],\n",
       "        [-1.0833, -0.4459, -1.2803, -0.6814,  1.6749,  0.5580],\n",
       "        [-1.2803, -0.6814,  1.6749,  0.5580,  1.6749,  0.5580],\n",
       "        [ 1.6749,  0.5580,  1.6749,  0.5580, -1.7591, -1.0244],\n",
       "        [-1.0833, -0.4459, -1.0833, -0.4459, -1.0833, -0.4459],\n",
       "        [-1.0833, -0.4459, -1.0833, -0.4459, -0.8195, -0.2994],\n",
       "        [-1.0833, -0.4459, -0.8195, -0.2994,  1.0779,  0.4264],\n",
       "        [-0.8195, -0.2994,  1.0779,  0.4264, -0.4634,  0.6024],\n",
       "        [ 1.0779,  0.4264, -0.4634,  0.6024, -0.1530,  0.7711],\n",
       "        [-0.4634,  0.6024, -0.1530,  0.7711, -0.4634,  0.6024],\n",
       "        [-0.1530,  0.7711, -0.4634,  0.6024, -1.7591, -1.0244],\n",
       "        [-1.0833, -0.4459, -1.0833, -0.4459, -1.0833, -0.4459],\n",
       "        [-1.0833, -0.4459, -1.0833, -0.4459, -1.7591, -1.0244],\n",
       "        [-1.0833, -0.4459, -1.7591, -1.0244, -0.1530,  0.7711],\n",
       "        [-1.7591, -1.0244, -0.1530,  0.7711, -1.7591, -1.0244],\n",
       "        [-1.0833, -0.4459, -1.0833, -0.4459, -1.0833, -0.4459],\n",
       "        [-1.0833, -0.4459, -1.0833, -0.4459, -0.4634,  0.6024],\n",
       "        [-1.0833, -0.4459, -0.4634,  0.6024, -1.8646, -0.0385],\n",
       "        [-0.4634,  0.6024, -1.8646, -0.0385, -1.7591, -1.0244],\n",
       "        [-1.8646, -0.0385, -1.7591, -1.0244,  1.0685, -2.9699],\n",
       "        [-1.7591, -1.0244,  1.0685, -2.9699, -1.2803, -0.6814],\n",
       "        [ 1.0685, -2.9699, -1.2803, -0.6814,  1.0779,  0.4264],\n",
       "        [-1.2803, -0.6814,  1.0779,  0.4264,  1.0779,  0.4264],\n",
       "        [ 1.0779,  0.4264,  1.0779,  0.4264, -1.7591, -1.0244],\n",
       "        [-1.0833, -0.4459, -1.0833, -0.4459, -1.0833, -0.4459],\n",
       "        [-1.0833, -0.4459, -1.0833, -0.4459, -1.8646, -0.0385],\n",
       "        [-1.0833, -0.4459, -1.8646, -0.0385, -0.8195, -0.2994],\n",
       "        [-1.8646, -0.0385, -0.8195, -0.2994,  1.0888,  0.7881],\n",
       "        [-0.8195, -0.2994,  1.0888,  0.7881, -0.7125,  0.0148],\n",
       "        [ 1.0888,  0.7881, -0.7125,  0.0148, -0.4634,  0.6024],\n",
       "        [-0.7125,  0.0148, -0.4634,  0.6024, -1.7591, -1.0244]])"
      ]
     },
     "execution_count": 30,
     "metadata": {},
     "output_type": "execute_result"
    }
   ],
   "source": [
    "emb.view((32, 6))"
   ]
  },
  {
   "cell_type": "code",
   "execution_count": 34,
   "id": "3b36582b",
   "metadata": {},
   "outputs": [
    {
     "data": {
      "text/plain": [
       "tensor([[-0.9999, -0.8701,  0.9784,  ..., -0.9582,  0.8194, -0.7266],\n",
       "        [-0.9999, -0.8510,  0.9880,  ..., -0.9360,  0.8852, -0.7396],\n",
       "        [-1.0000, -0.9568, -0.9324,  ..., -0.9998, -0.3855, -0.5066],\n",
       "        ...,\n",
       "        [ 0.3322, -0.9729,  0.9622,  ..., -0.9671, -0.7739, -0.9498],\n",
       "        [ 0.9922, -0.3414, -0.0880,  ..., -0.9080,  0.6014,  0.1316],\n",
       "        [-0.9723, -0.9697,  0.9986,  ..., -0.2473,  0.6726, -0.7924]])"
      ]
     },
     "execution_count": 34,
     "metadata": {},
     "output_type": "execute_result"
    }
   ],
   "source": [
    "W1 = torch.randn((6, 100))\n",
    "b1 = torch.randn(100)\n",
    "\n",
    "h = torch.tanh(emb.view(-1, 6) @ W1 + b1)\n",
    "h"
   ]
  },
  {
   "cell_type": "code",
   "execution_count": 35,
   "id": "b48ddd60",
   "metadata": {},
   "outputs": [],
   "source": [
    "W2 = torch.randn((100, 27))\n",
    "b2 = torch.randn(27)"
   ]
  },
  {
   "cell_type": "code",
   "execution_count": 36,
   "id": "3a77edb4",
   "metadata": {},
   "outputs": [
    {
     "data": {
      "text/plain": [
       "torch.Size([32, 27])"
      ]
     },
     "execution_count": 36,
     "metadata": {},
     "output_type": "execute_result"
    }
   ],
   "source": [
    "logits = h @ W2 + b2\n",
    "logits.shape"
   ]
  },
  {
   "cell_type": "code",
   "execution_count": 37,
   "id": "0d55bee3",
   "metadata": {},
   "outputs": [],
   "source": [
    "counts = logits.exp()\n",
    "probs = counts/counts.sum(1, keepdims=True)"
   ]
  },
  {
   "cell_type": "code",
   "execution_count": 38,
   "id": "aed1549e",
   "metadata": {},
   "outputs": [
    {
     "data": {
      "text/plain": [
       "torch.Size([32, 27])"
      ]
     },
     "execution_count": 38,
     "metadata": {},
     "output_type": "execute_result"
    }
   ],
   "source": [
    "probs.shape"
   ]
  },
  {
   "cell_type": "code",
   "execution_count": 43,
   "id": "ff058f9a",
   "metadata": {},
   "outputs": [],
   "source": [
    "loss = -probs[torch.arange(32), Y].log().mean()"
   ]
  },
  {
   "cell_type": "code",
   "execution_count": 44,
   "id": "99a48a2d",
   "metadata": {},
   "outputs": [
    {
     "data": {
      "text/plain": [
       "tensor(12.9622)"
      ]
     },
     "execution_count": 44,
     "metadata": {},
     "output_type": "execute_result"
    }
   ],
   "source": [
    "loss"
   ]
  },
  {
   "cell_type": "code",
   "execution_count": 45,
   "id": "64192314",
   "metadata": {},
   "outputs": [],
   "source": [
    "# clean up a little bit"
   ]
  },
  {
   "cell_type": "code",
   "execution_count": 70,
   "id": "4cf8c37b",
   "metadata": {},
   "outputs": [
    {
     "data": {
      "text/plain": [
       "(torch.Size([228146, 3]), torch.Size([228146]))"
      ]
     },
     "execution_count": 70,
     "metadata": {},
     "output_type": "execute_result"
    }
   ],
   "source": [
    "X.shape, Y.shape"
   ]
  },
  {
   "cell_type": "code",
   "execution_count": 117,
   "id": "689eff5a",
   "metadata": {},
   "outputs": [],
   "source": [
    "g = torch.Generator().manual_seed(2147483647)\n",
    "C = torch.randn((27, 2), generator=g)\n",
    "W1 = torch.randn((6, 100), generator=g)\n",
    "b1 = torch.randn(100, generator=g)\n",
    "W2 = torch.randn((100, 27), generator=g)\n",
    "b2 = torch.randn(27, generator=g)\n",
    "parameters = [C, W1, b1, W2, b2]"
   ]
  },
  {
   "cell_type": "code",
   "execution_count": 118,
   "id": "f58d5d65",
   "metadata": {},
   "outputs": [
    {
     "data": {
      "text/plain": [
       "3481"
      ]
     },
     "execution_count": 118,
     "metadata": {},
     "output_type": "execute_result"
    }
   ],
   "source": [
    "sum(p.nelement() for p in parameters)"
   ]
  },
  {
   "cell_type": "code",
   "execution_count": 119,
   "id": "6da59a80",
   "metadata": {},
   "outputs": [],
   "source": [
    "for p in parameters: \n",
    "    p.requires_grad = True"
   ]
  },
  {
   "cell_type": "code",
   "execution_count": 120,
   "id": "1e089494",
   "metadata": {},
   "outputs": [],
   "source": [
    "lre = torch.linspace(-3, 0, 1000)\n",
    "lrs = 10 ** lre"
   ]
  },
  {
   "cell_type": "code",
   "execution_count": 142,
   "id": "3c046239",
   "metadata": {},
   "outputs": [],
   "source": [
    "lri = []\n",
    "lossi = []\n",
    "for i in range(1000):\n",
    "#     minibatch construct\n",
    "    ix = torch.randint(0, X.shape[0], (32,))\n",
    "\n",
    "    emb = C[X[ix]]\n",
    "    h = torch.tanh(emb.view(-1, 6) @ W1 + b1)\n",
    "    logits = h @ W2 + b2\n",
    "    # counts = logits.exp()\n",
    "    # prob = counts/counts.sum(1, keepdims=True)\n",
    "    # loss = -prob[torch.arange(X.shape[0]), Y].log().mean()\n",
    "    loss = F.cross_entropy(logits, Y[ix])\n",
    "#     print(loss.item())\n",
    "\n",
    "    # backwoard pass\n",
    "    for p in parameters: \n",
    "        p.grad = None\n",
    "    loss.backward()\n",
    "    # update\n",
    "#     lr = lrs[i]\n",
    "    lr = 0.01\n",
    "    for p in parameters: \n",
    "        p.data += -lr * p.grad\n",
    "#     lri.append(lre[i])\n",
    "#     lossi.append(loss.item())\n",
    "\n"
   ]
  },
  {
   "cell_type": "code",
   "execution_count": 116,
   "id": "23b889d7",
   "metadata": {},
   "outputs": [
    {
     "data": {
      "text/plain": [
       "[<matplotlib.lines.Line2D at 0x7fe466303100>]"
      ]
     },
     "execution_count": 116,
     "metadata": {},
     "output_type": "execute_result"
    },
    {
     "data": {
      "image/png": "[encoded data removed]",
      "text/plain": [
       "<Figure size 640x480 with 1 Axes>"
      ]
     },
     "metadata": {},
     "output_type": "display_data"
    }
   ],
   "source": [
    "plt.plot(lri, lossi)"
   ]
  },
  {
   "cell_type": "code",
   "execution_count": 143,
   "id": "fb02df51",
   "metadata": {},
   "outputs": [
    {
     "name": "stdout",
     "output_type": "stream",
     "text": [
      "2.4209306240081787\n"
     ]
    }
   ],
   "source": [
    "emb = C[X]\n",
    "h = torch.tanh(emb.view(-1, 6) @ W1 + b1)\n",
    "logits = h @ W2 + b2\n",
    "# counts = logits.exp()\n",
    "# prob = counts/counts.sum(1, keepdims=True)\n",
    "# loss = -prob[torch.arange(X.shape[0]), Y].log().mean()\n",
    "loss = F.cross_entropy(logits, Y)\n",
    "print(loss.item())"
   ]
  },
  {
   "cell_type": "code",
   "execution_count": 124,
   "id": "a4277e2a",
   "metadata": {},
   "outputs": [
    {
     "name": "stdout",
     "output_type": "stream",
     "text": [
      "2.4032657146453857\n"
     ]
    }
   ],
   "source": [
    "print(loss.item())\n"
   ]
  },
  {
   "cell_type": "code",
   "execution_count": 207,
   "id": "d1d5b25a",
   "metadata": {},
   "outputs": [
    {
     "name": "stdout",
     "output_type": "stream",
     "text": [
      "torch.Size([182441, 4]) torch.Size([182441])\n",
      "torch.Size([22902, 4]) torch.Size([22902])\n",
      "torch.Size([22803, 4]) torch.Size([22803])\n"
     ]
    }
   ],
   "source": [
    "# train/test split 80-10-10\n",
    "# build the dataset\n",
    "def build_dataset(words, block_size=3):\n",
    "    \n",
    "#     block_size: context length: how many chs do we take to predict the next one. It's fixed here. \n",
    "    X, Y = [], []\n",
    "    for w in words:\n",
    "    #     print(w)\n",
    "        context = [0] * block_size\n",
    "        for ch in w + '.':\n",
    "            ix = stoi[ch]\n",
    "            X.append(context)\n",
    "            Y.append(ix)\n",
    "    #         print(''.join(itos[i] for i in context), '--->', itos[ix])\n",
    "            context = context[1:] + [ix] # crop and append\n",
    "\n",
    "    X = torch.tensor(X)\n",
    "    Y = torch.tensor(Y)\n",
    "    print(X.shape, Y.shape)\n",
    "    return X, Y\n",
    "\n",
    "import random\n",
    "random.seed(42)\n",
    "random.shuffle(words)\n",
    "n1 = int(0.8*len(words))\n",
    "n2 = int(0.9*len(words))\n",
    "\n",
    "Xtr, Ytr = build_dataset(words[:n1], 4)\n",
    "Xdev, Ydev = build_dataset(words[n1:n2], 4)\n",
    "Xte, Yte = build_dataset(words[n2:], 4)\n"
   ]
  },
  {
   "cell_type": "code",
   "execution_count": 214,
   "id": "e6b2ebc2",
   "metadata": {},
   "outputs": [],
   "source": [
    "g = torch.Generator().manual_seed(2147483647)\n",
    "C = torch.randn((27, 10), generator=g)\n",
    "W1 = torch.randn((40, 100), generator=g)\n",
    "b1 = torch.randn(100, generator=g)\n",
    "W2 = torch.randn((100, 27), generator=g)\n",
    "b2 = torch.randn(27, generator=g)\n",
    "parameters = [C, W1, b1, W2, b2]\n",
    "\n",
    "sum(p.nelement() for p in parameters)\n",
    "\n"
   ]
  },
  {
   "cell_type": "code",
   "execution_count": null,
   "id": "97130565",
   "metadata": {},
   "outputs": [],
   "source": [
    "for p in parameters: \n",
    "    p.requires_grad = True"
   ]
  },
  {
   "cell_type": "code",
   "execution_count": 215,
   "id": "20a97cb9",
   "metadata": {},
   "outputs": [],
   "source": [
    "lre = torch.linspace(-3, 0, 1000)\n",
    "lrs = 10 ** lre"
   ]
  },
  {
   "cell_type": "code",
   "execution_count": 216,
   "id": "3d24cff1",
   "metadata": {},
   "outputs": [],
   "source": [
    "lri = []\n",
    "lossi = []\n",
    "stepi = []"
   ]
  },
  {
   "cell_type": "code",
   "execution_count": 220,
   "id": "123f203a",
   "metadata": {},
   "outputs": [],
   "source": [
    "\n",
    "\n",
    "for i in range(1000000):\n",
    "#     minibatch construct\n",
    "    ix = torch.randint(0, Xtr.shape[0], (64,))\n",
    "\n",
    "    emb = C[Xtr[ix]]\n",
    "    h = torch.tanh(emb.view(-1, 40) @ W1 + b1)\n",
    "    logits = h @ W2 + b2\n",
    "    # counts = logits.exp()\n",
    "    # prob = counts/counts.sum(1, keepdims=True)\n",
    "    # loss = -prob[torch.arange(X.shape[0]), Y].log().mean()\n",
    "    loss = F.cross_entropy(logits, Ytr[ix])\n",
    "#     print(loss.item())\n",
    "\n",
    "    # backwoard pass\n",
    "    for p in parameters: \n",
    "        p.grad = None\n",
    "    loss.backward()\n",
    "    # update\n",
    "#     lr = lrs[i]\n",
    "    if i < 500000:\n",
    "        lr = 0.1\n",
    "    else:\n",
    "        lr = 0.01\n",
    "    for p in parameters: \n",
    "        p.data += -lr * p.grad\n",
    "        \n",
    "#     lri.append(lre[i])\n",
    "    # keep stats\n",
    "    stepi.append(i)\n",
    "    lossi.append(loss.log10().item())"
   ]
  },
  {
   "cell_type": "code",
   "execution_count": 205,
   "id": "a208fd64",
   "metadata": {},
   "outputs": [
    {
     "data": {
      "text/plain": [
       "[<matplotlib.lines.Line2D at 0x7fe44c5040d0>]"
      ]
     },
     "execution_count": 205,
     "metadata": {},
     "output_type": "execute_result"
    },
    {
     "data": {
      "image/png": "[encoded data removed]",
      "text/plain": [
       "<Figure size 640x480 with 1 Axes>"
      ]
     },
     "metadata": {},
     "output_type": "display_data"
    }
   ],
   "source": [
    "plt.plot(stepi, lossi)"
   ]
  },
  {
   "cell_type": "code",
   "execution_count": 222,
   "id": "e0e1633d",
   "metadata": {},
   "outputs": [
    {
     "name": "stdout",
     "output_type": "stream",
     "text": [
      "2.1129987239837646\n"
     ]
    }
   ],
   "source": [
    "emb = C[Xdev]\n",
    "h = torch.tanh(emb.view(-1, 40) @ W1 + b1)\n",
    "logits = h @ W2 + b2\n",
    "# counts = logits.exp()\n",
    "# prob = counts/counts.sum(1, keepdims=True)\n",
    "# loss = -prob[torch.arange(X.shape[0]), Y].log().mean()\n",
    "loss = F.cross_entropy(logits, Ydev)\n",
    "print(loss.item())"
   ]
  },
  {
   "cell_type": "code",
   "execution_count": 221,
   "id": "6826ea58",
   "metadata": {},
   "outputs": [
    {
     "name": "stdout",
     "output_type": "stream",
     "text": [
      "1.9413890838623047\n"
     ]
    }
   ],
   "source": [
    "emb = C[Xtr]\n",
    "h = torch.tanh(emb.view(-1, 40) @ W1 + b1)\n",
    "logits = h @ W2 + b2\n",
    "# counts = logits.exp()\n",
    "# prob = counts/counts.sum(1, keepdims=True)\n",
    "# loss = -prob[torch.arange(X.shape[0]), Y].log().mean()\n",
    "loss = F.cross_entropy(logits, Ytr)\n",
    "print(loss.item())"
   ]
  },
  {
   "cell_type": "code",
   "execution_count": 166,
   "id": "7fb2b0ed",
   "metadata": {},
   "outputs": [
    {
     "data": {
      "image/png": "[encoded data removed]",
      "text/plain": [
       "<Figure size 800x800 with 1 Axes>"
      ]
     },
     "metadata": {},
     "output_type": "display_data"
    }
   ],
   "source": [
    "plt.figure(figsize=(8, 8))\n",
    "plt.scatter(C[:, 0].data, C[:, 1].data, s=200)\n",
    "for i in range(C.shape[0]):\n",
    "    plt.text(C[i, 0].item(), C[i, 1].item(), itos[i], ha=\"center\", va=\"center\", color=\"white\")\n",
    "plt.grid('minor')"
   ]
  },
  {
   "cell_type": "code",
   "execution_count": 193,
   "id": "668a4e3e",
   "metadata": {},
   "outputs": [
    {
     "name": "stdout",
     "output_type": "stream",
     "text": [
      "carmah.\n",
      "ambril.\n",
      "khi.\n",
      "mili.\n",
      "taty.\n",
      "skandane.\n",
      "mahnen.\n",
      "deliah.\n",
      "jareen.\n",
      "nellara.\n",
      "chaiivia.\n",
      "legg.\n",
      "dham.\n",
      "joim.\n",
      "quint.\n",
      "sulin.\n",
      "alian.\n",
      "quinathon.\n",
      "jaryni.\n",
      "jace.\n"
     ]
    }
   ],
   "source": [
    "# sample from the model \n",
    "g = torch.Generator().manual_seed(2147483647 + 10)\n",
    "\n",
    "for _ in range(20):\n",
    "    block_size = 3\n",
    "    out = []\n",
    "    context = [0] * block_size\n",
    "    while True: \n",
    "        emb = C[torch.tensor([context])] #(1, block_size, d)\n",
    "        h = torch.tanh(emb.view(1, -1) @ W1 + b1)\n",
    "        logits = h @ W2 + b2\n",
    "        probs = F.softmax(logits, dim = 1)\n",
    "        ix = torch.multinomial(probs, num_samples=1, generator = g).item()\n",
    "        context = context[1:] + [ix]\n",
    "        out.append(ix)\n",
    "        if ix==0:\n",
    "            break\n",
    "    print(''.join(itos[i] for i in out))"
   ]
  },
  {
   "cell_type": "code",
   "execution_count": null,
   "id": "2aaefcfb",
   "metadata": {},
   "outputs": [],
   "source": []
  }
 ],
 "metadata": {
  "kernelspec": {
   "display_name": "Python 3 (ipykernel)",
   "language": "python",
   "name": "python3"
  },
  "language_info": {
   "codemirror_mode": {
    "name": "ipython",
    "version": 3
   },
   "file_extension": ".py",
   "mimetype": "text/x-python",
   "name": "python",
   "nbconvert_exporter": "python",
   "pygments_lexer": "ipython3",
   "version": "3.10.11"
  }
 },
 "nbformat": 4,
 "nbformat_minor": 5
}
