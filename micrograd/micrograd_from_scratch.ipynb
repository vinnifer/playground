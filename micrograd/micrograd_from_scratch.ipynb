{
 "cells": [
  {
   "cell_type": "code",
   "execution_count": 2,
   "metadata": {},
   "outputs": [],
   "source": [
    "import math\n",
    "import numpy as np \n",
    "import matplotlib.pyplot as plt\n",
    "%matplotlib inline"
   ]
  },
  {
   "cell_type": "code",
   "execution_count": 2,
   "metadata": {},
   "outputs": [],
   "source": [
    "def f(x):\n",
    "    return 3*x**2 - 4*x + 5"
   ]
  },
  {
   "cell_type": "code",
   "execution_count": 3,
   "metadata": {},
   "outputs": [
    {
     "data": {
      "text/plain": [
       "20.0"
      ]
     },
     "execution_count": 3,
     "metadata": {},
     "output_type": "execute_result"
    }
   ],
   "source": [
    "f(3.0)"
   ]
  },
  {
   "cell_type": "code",
   "execution_count": 7,
   "metadata": {},
   "outputs": [
    {
     "data": {
      "text/plain": [
       "[<matplotlib.lines.Line2D at 0x7f97feab8ad0>]"
      ]
     },
     "execution_count": 7,
     "metadata": {},
     "output_type": "execute_result"
    },
    {
     "data": {
      "image/png": "[encoded data removed]",
      "text/plain": [
       "<Figure size 432x288 with 1 Axes>"
      ]
     },
     "metadata": {
      "needs_background": "light"
     },
     "output_type": "display_data"
    }
   ],
   "source": [
    "xs = np.arange(-5, 5, 0.25)\n",
    "ys = f(xs)\n",
    "plt.plot(xs, ys)"
   ]
  },
  {
   "cell_type": "code",
   "execution_count": 14,
   "metadata": {},
   "outputs": [
    {
     "data": {
      "text/plain": [
       "2.999378523327323e-06"
      ]
     },
     "execution_count": 14,
     "metadata": {},
     "output_type": "execute_result"
    }
   ],
   "source": [
    "h = 0.000001\n",
    "x = 2.0/3\n",
    "(f(x+h) - f(x))/h"
   ]
  },
  {
   "cell_type": "code",
   "execution_count": 15,
   "metadata": {},
   "outputs": [
    {
     "name": "stdout",
     "output_type": "stream",
     "text": [
      "4.0\n"
     ]
    }
   ],
   "source": [
    "a = 2.0\n",
    "b = -3.0\n",
    "c = 10.0\n",
    "d = a*b + c\n",
    "print(d)"
   ]
  },
  {
   "cell_type": "code",
   "execution_count": 19,
   "metadata": {},
   "outputs": [
    {
     "name": "stdout",
     "output_type": "stream",
     "text": [
      "d1 4.0\n",
      "d2 4.0001\n",
      "slope 0.9999999999976694\n"
     ]
    }
   ],
   "source": [
    "h = 0.0001\n",
    "\n",
    "a = 2.0\n",
    "b = -3.0\n",
    "c = 10.0\n",
    "\n",
    "d1 = a*b + c\n",
    "c += h\n",
    "d2 = a*b + c\n",
    "\n",
    "print('d1', d1)\n",
    "print('d2', d2)\n",
    "print('slope', (d2 - d1)/h)\n"
   ]
  },
  {
   "cell_type": "code",
   "execution_count": 93,
   "metadata": {},
   "outputs": [],
   "source": [
    "class Value:\n",
    "    \n",
    "    def __init__(self, data, _children=(), _op='', label = ''):\n",
    "        self.data = data\n",
    "        self.grad = 0.0\n",
    "        self._backward = lambda: None\n",
    "        self._prev = set(_children)\n",
    "        self._op = _op\n",
    "        self.label = label\n",
    "        \n",
    "    def __repr__(self):\n",
    "        return f\"Value(data={self.data})\"\n",
    "    \n",
    "    def __add__(self, other):\n",
    "        other = other if isinstance(other, Value) else Value(other)\n",
    "        out = Value(self.data + other.data, (self, other), '+')\n",
    "        \n",
    "        def _backward():\n",
    "            self.grad += 1.0 * out.grad\n",
    "            other.grad += 1.0 * out.grad\n",
    "        out._backward = _backward\n",
    "        \n",
    "        return out\n",
    "    \n",
    "    def __mul__(self, other):\n",
    "        other = other if isinstance(other, Value) else Value(other)\n",
    "        out = Value(self.data * other.data, (self, other), '*')\n",
    "        \n",
    "        def _backward():\n",
    "            self.grad += other.data*out.grad\n",
    "            other.grad += self.data*out.grad\n",
    "        out._backward = _backward\n",
    "        \n",
    "        return out\n",
    "    \n",
    "    def __pow__(self, other):\n",
    "        assert isinstance(other, (int, float)), \"only supporting int/float powers for now\"\n",
    "        out = Value(self.data ** other, (self,), f'**{other}')\n",
    "        \n",
    "        def _backward():\n",
    "            self.grad += other * self.data**(other-1) * out.grad\n",
    "        out._backward = _backward\n",
    "        \n",
    "        return out\n",
    "        \n",
    "    def __radd__(self, other): # other + self\n",
    "        return self + other\n",
    "    \n",
    "    def __rmul__(self, other):\n",
    "        return self*other\n",
    "    \n",
    "    def __truediv__(self, other):\n",
    "        return self * other**-1\n",
    "    \n",
    "    \n",
    "    \n",
    "    def __neg__(self):\n",
    "        return self * -1\n",
    "    \n",
    "    def __sub__(self, other):\n",
    "        return self + (-other)\n",
    "    \n",
    "    def __rsub__(self, other): # other - self\n",
    "        return other + (-self)\n",
    "    \n",
    "    def tanh(self):\n",
    "        x = self.data\n",
    "        t = (math.exp(2*x) - 1)/(math.exp(2*x) + 1)\n",
    "        out = Value(t, (self, ), 'tanh')\n",
    "        \n",
    "        def _backward():\n",
    "            self.grad += (1 - t**2) * out.grad\n",
    "        out._backward = _backward\n",
    "        \n",
    "        return out\n",
    "    \n",
    "    def exp(self):\n",
    "        x = self.data\n",
    "        out = Value(math.exp(x), (self, ), 'exp')\n",
    "        \n",
    "        def _backward():\n",
    "            self.grad += out.data * out.grad\n",
    "        out._backward = _backward\n",
    "        \n",
    "        return out\n",
    "    \n",
    "    def backward(self):\n",
    "        topo = []\n",
    "        visited = set()\n",
    "        def build_topo(v):\n",
    "            if v not in visited:\n",
    "                visited.add(v)\n",
    "                for child in v._prev:\n",
    "                    build_topo(child)\n",
    "                topo.append(v)\n",
    "\n",
    "        build_topo(self)\n",
    "        self.grad = 1.0\n",
    "        for node in reversed(topo):\n",
    "            node._backward()\n"
   ]
  },
  {
   "cell_type": "code",
   "execution_count": 83,
   "metadata": {},
   "outputs": [
    {
     "data": {
      "text/plain": [
       "Value(data=1.0, grad=0)"
      ]
     },
     "execution_count": 83,
     "metadata": {},
     "output_type": "execute_result"
    }
   ],
   "source": [
    "a = Value(2.0)\n",
    "b = 1\n",
    "a - 1"
   ]
  },
  {
   "cell_type": "code",
   "execution_count": 43,
   "metadata": {},
   "outputs": [],
   "source": [
    "from graphviz import Digraph\n",
    "\n",
    "def trace(root):\n",
    "    # builds a set of all nodes and edges in a graph\n",
    "    nodes, edges = set(), set()\n",
    "    def build(v):\n",
    "        if v not in nodes:\n",
    "            nodes.add(v)\n",
    "            for child in v._prev:\n",
    "                edges.add((child, v))\n",
    "                build(child)\n",
    "    build(root)\n",
    "    return nodes, edges\n",
    "\n",
    "def draw_dot(root):\n",
    "    dot = Digraph(format='svg', graph_attr={'rankdir': 'LR'}) # LR = left to right\n",
    "    \n",
    "    nodes, edges = trace(root)\n",
    "    for n in nodes: \n",
    "        uid = str(id(n))\n",
    "        # for any value in the graph, create a rectangular ('record') node for it \n",
    "        dot.node(name = uid, label = \"{%s | data %.4f | grad %.4f}\" % (n.label, n.data, n.grad), shape = 'record')\n",
    "        if n._op:\n",
    "            # if this value is a result of some operation, create an op node for it \n",
    "            dot.node(name = uid + n._op, label = n._op)\n",
    "            # and connect this node to it\n",
    "            dot.edge(uid + n._op, uid)\n",
    "        \n",
    "    for n1, n2 in edges: \n",
    "        # connect n1 to the op node of n2\n",
    "        dot.edge(str(id(n1)), str(id(n2)) + n2._op)\n",
    "        \n",
    "    return dot\n"
   ]
  },
  {
   "cell_type": "code",
   "execution_count": 51,
   "metadata": {},
   "outputs": [
    {
     "ename": "NameError",
     "evalue": "name 'L' is not defined",
     "output_type": "error",
     "traceback": [
      "\u001b[0;31m---------------------------------------------------------------------------\u001b[0m",
      "\u001b[0;31mNameError\u001b[0m                                 Traceback (most recent call last)",
      "\u001b[0;32m<ipython-input-51-9054a3efd524>\u001b[0m in \u001b[0;36m<module>\u001b[0;34m\u001b[0m\n\u001b[0;32m----> 1\u001b[0;31m \u001b[0mdraw_dot\u001b[0m\u001b[0;34m(\u001b[0m\u001b[0mL\u001b[0m\u001b[0;34m)\u001b[0m\u001b[0;34m\u001b[0m\u001b[0;34m\u001b[0m\u001b[0m\n\u001b[0m",
      "\u001b[0;31mNameError\u001b[0m: name 'L' is not defined"
     ]
    }
   ],
   "source": [
    "draw_dot(L)"
   ]
  },
  {
   "cell_type": "code",
   "execution_count": 81,
   "metadata": {},
   "outputs": [
    {
     "name": "stdout",
     "output_type": "stream",
     "text": [
      "-7.800800000000001\n"
     ]
    }
   ],
   "source": [
    "a.data += 0.01 * a.grad\n",
    "b.data += 0.01 * b.grad\n",
    "c.data += 0.01 * c.grad\n",
    "f.data += 0.01 * f.grad\n",
    "\n",
    "e = a*b; e.label='e'\n",
    "d = e + c; d.label='d'\n",
    "L = d*f;L.label = 'L'\n",
    "\n",
    "print(L.data)"
   ]
  },
  {
   "cell_type": "code",
   "execution_count": 80,
   "metadata": {},
   "outputs": [
    {
     "name": "stdout",
     "output_type": "stream",
     "text": [
      "-1.9999999999953388\n"
     ]
    }
   ],
   "source": [
    "def lol():\n",
    "    \n",
    "    h=0.0001\n",
    "    \n",
    "    a = Value(2.0, label='a')\n",
    "    b = Value(-3.0, label='b')\n",
    "    c = Value(10.0, label='c')\n",
    "    e = a*b; e.label='e'\n",
    "#     e.data =+ h\n",
    "    d = e + c; d.label='d'\n",
    "    f = Value(-2.0, label = 'f')\n",
    "    L = d*f;L.label = 'L'\n",
    "    L1 = L.data\n",
    "    \n",
    "    a = Value(2.0, label='a')\n",
    "    b = Value(-3.0, label='b')\n",
    "    c = Value(10.0 , label='c')\n",
    "    e = a*b; e.label='e'\n",
    "    e.data += h\n",
    "    d = e + c; d.label='d'\n",
    "    f = Value(-2.0, label = 'f')\n",
    "    L = d*f;L.label = 'L'\n",
    "    L2 = L.data \n",
    "    \n",
    "    print((L2 - L1)/h)\n",
    "    \n",
    "lol()"
   ]
  },
  {
   "cell_type": "code",
   "execution_count": 163,
   "metadata": {},
   "outputs": [],
   "source": [
    "x1 = Value(2.0, label='x1')\n",
    "x2 = Value(0.0, label='x2')\n",
    "w1 = Value(-3.0, label='w1')\n",
    "w2 = Value(1.0, label='w2')\n",
    "b = Value(6.8813735870195432, label='b')\n",
    "\n",
    "x1w1 = x1*w1; x1w1.label='x1*w1'\n",
    "x2w2 = x2*w2; x2w2.label='x2*w2'\n",
    "x1w1x2w2 = x1w1 + x2w2; x1w1x2w2.label='x1*w1 + x2*w2'\n",
    "n = x1w1x2w2 + b; n.label = 'n'\n",
    "# o = n.tanh(); o.label = 'o'\n",
    "e = (2*n).exp()\n",
    "o = (e-1)/(e+1)\n",
    "o.backward()"
   ]
  },
  {
   "cell_type": "code",
   "execution_count": 164,
   "metadata": {},
   "outputs": [
    {
     "data": {
      "image/svg+xml": [
       "<?xml version=\"1.0\" encoding=\"UTF-8\" standalone=\"no\"?>\n",
       "<!DOCTYPE svg PUBLIC \"-//W3C//DTD SVG 1.1//EN\"\n",
       " \"http://www.w3.org/Graphics/SVG/1.1/DTD/svg11.dtd\">\n",
       "<!-- Generated by graphviz version 8.0.5 (20230430.1635)\n",
       " -->\n",
       "<!-- Pages: 1 -->\n",
       "<svg width=\"2926pt\" height=\"210pt\"\n",
       " viewBox=\"0.00 0.00 2926.25 210.00\" xmlns=\"http://www.w3.org/2000/svg\" xmlns:xlink=\"http://www.w3.org/1999/xlink\">\n",
       "<g id=\"graph0\" class=\"graph\" transform=\"scale(1 1) rotate(0) translate(4 206)\">\n",
       "<polygon fill=\"white\" stroke=\"none\" points=\"-4,4 -4,-206 2922.25,-206 2922.25,4 -4,4\"/>\n",
       "<!-- 140290794314256 -->\n",
       "<g id=\"node1\" class=\"node\">\n",
       "<title>140290794314256</title>\n",
       "<polygon fill=\"none\" stroke=\"black\" points=\"2737.5,-80.5 2737.5,-116.5 2918.25,-116.5 2918.25,-80.5 2737.5,-80.5\"/>\n",
       "<text text-anchor=\"middle\" x=\"2747.38\" y=\"-92.7\" font-family=\"Times,serif\" font-size=\"14.00\"> </text>\n",
       "<polyline fill=\"none\" stroke=\"black\" points=\"2757.25,-81.25 2757.25,-116.5\"/>\n",
       "<text text-anchor=\"middle\" x=\"2797.12\" y=\"-92.7\" font-family=\"Times,serif\" font-size=\"14.00\">data 0.7071</text>\n",
       "<polyline fill=\"none\" stroke=\"black\" points=\"2837,-81.25 2837,-116.5\"/>\n",
       "<text text-anchor=\"middle\" x=\"2877.62\" y=\"-92.7\" font-family=\"Times,serif\" font-size=\"14.00\">grad 1.0000</text>\n",
       "</g>\n",
       "<!-- 140290794314256* -->\n",
       "<g id=\"node2\" class=\"node\">\n",
       "<title>140290794314256*</title>\n",
       "<ellipse fill=\"none\" stroke=\"black\" cx=\"2674.5\" cy=\"-98.5\" rx=\"27\" ry=\"18\"/>\n",
       "<text text-anchor=\"middle\" x=\"2674.5\" y=\"-92.33\" font-family=\"Times,serif\" font-size=\"14.00\">*</text>\n",
       "</g>\n",
       "<!-- 140290794314256*&#45;&gt;140290794314256 -->\n",
       "<g id=\"edge1\" class=\"edge\">\n",
       "<title>140290794314256*&#45;&gt;140290794314256</title>\n",
       "<path fill=\"none\" stroke=\"black\" d=\"M2701.87,-98.5C2709.3,-98.5 2717.85,-98.5 2726.92,-98.5\"/>\n",
       "<polygon fill=\"black\" stroke=\"black\" points=\"2726.77,-102 2736.77,-98.5 2726.77,-95 2726.77,-102\"/>\n",
       "</g>\n",
       "<!-- 140290794414608 -->\n",
       "<g id=\"node3\" class=\"node\">\n",
       "<title>140290794414608</title>\n",
       "<polygon fill=\"none\" stroke=\"black\" points=\"1065,-109.5 1065,-145.5 1248.75,-145.5 1248.75,-109.5 1065,-109.5\"/>\n",
       "<text text-anchor=\"middle\" x=\"1076.38\" y=\"-121.7\" font-family=\"Times,serif\" font-size=\"14.00\">n</text>\n",
       "<polyline fill=\"none\" stroke=\"black\" points=\"1087.75,-110.25 1087.75,-145.5\"/>\n",
       "<text text-anchor=\"middle\" x=\"1127.62\" y=\"-121.7\" font-family=\"Times,serif\" font-size=\"14.00\">data 0.8814</text>\n",
       "<polyline fill=\"none\" stroke=\"black\" points=\"1167.5,-110.25 1167.5,-145.5\"/>\n",
       "<text text-anchor=\"middle\" x=\"1208.12\" y=\"-121.7\" font-family=\"Times,serif\" font-size=\"14.00\">grad 0.5000</text>\n",
       "</g>\n",
       "<!-- 140290794414992* -->\n",
       "<g id=\"node16\" class=\"node\">\n",
       "<title>140290794414992*</title>\n",
       "<ellipse fill=\"none\" stroke=\"black\" cx=\"1311.75\" cy=\"-99.5\" rx=\"27\" ry=\"18\"/>\n",
       "<text text-anchor=\"middle\" x=\"1311.75\" y=\"-93.33\" font-family=\"Times,serif\" font-size=\"14.00\">*</text>\n",
       "</g>\n",
       "<!-- 140290794414608&#45;&gt;140290794414992* -->\n",
       "<g id=\"edge13\" class=\"edge\">\n",
       "<title>140290794414608&#45;&gt;140290794414992*</title>\n",
       "<path fill=\"none\" stroke=\"black\" d=\"M1248.57,-110.89C1257.66,-109.22 1266.47,-107.61 1274.46,-106.15\"/>\n",
       "<polygon fill=\"black\" stroke=\"black\" points=\"1274.96,-109.43 1284.16,-104.19 1273.7,-102.55 1274.96,-109.43\"/>\n",
       "</g>\n",
       "<!-- 140290794414608+ -->\n",
       "<g id=\"node4\" class=\"node\">\n",
       "<title>140290794414608+</title>\n",
       "<ellipse fill=\"none\" stroke=\"black\" cx=\"1002\" cy=\"-127.5\" rx=\"27\" ry=\"18\"/>\n",
       "<text text-anchor=\"middle\" x=\"1002\" y=\"-121.33\" font-family=\"Times,serif\" font-size=\"14.00\">+</text>\n",
       "</g>\n",
       "<!-- 140290794414608+&#45;&gt;140290794414608 -->\n",
       "<g id=\"edge2\" class=\"edge\">\n",
       "<title>140290794414608+&#45;&gt;140290794414608</title>\n",
       "<path fill=\"none\" stroke=\"black\" d=\"M1029.28,-127.5C1036.7,-127.5 1045.26,-127.5 1054.35,-127.5\"/>\n",
       "<polygon fill=\"black\" stroke=\"black\" points=\"1054.22,-131 1064.22,-127.5 1054.22,-124 1054.22,-131\"/>\n",
       "</g>\n",
       "<!-- 140290794245520 -->\n",
       "<g id=\"node5\" class=\"node\">\n",
       "<title>140290794245520</title>\n",
       "<polygon fill=\"none\" stroke=\"black\" points=\"324,-110.5 324,-146.5 542.25,-146.5 542.25,-110.5 324,-110.5\"/>\n",
       "<text text-anchor=\"middle\" x=\"350.38\" y=\"-122.7\" font-family=\"Times,serif\" font-size=\"14.00\">x1*w1</text>\n",
       "<polyline fill=\"none\" stroke=\"black\" points=\"376.75,-111.25 376.75,-146.5\"/>\n",
       "<text text-anchor=\"middle\" x=\"418.88\" y=\"-122.7\" font-family=\"Times,serif\" font-size=\"14.00\">data &#45;6.0000</text>\n",
       "<polyline fill=\"none\" stroke=\"black\" points=\"461,-111.25 461,-146.5\"/>\n",
       "<text text-anchor=\"middle\" x=\"501.62\" y=\"-122.7\" font-family=\"Times,serif\" font-size=\"14.00\">grad 0.5000</text>\n",
       "</g>\n",
       "<!-- 140290794414352+ -->\n",
       "<g id=\"node19\" class=\"node\">\n",
       "<title>140290794414352+</title>\n",
       "<ellipse fill=\"none\" stroke=\"black\" cx=\"605.25\" cy=\"-100.5\" rx=\"27\" ry=\"18\"/>\n",
       "<text text-anchor=\"middle\" x=\"605.25\" y=\"-94.33\" font-family=\"Times,serif\" font-size=\"14.00\">+</text>\n",
       "</g>\n",
       "<!-- 140290794245520&#45;&gt;140290794414352+ -->\n",
       "<g id=\"edge14\" class=\"edge\">\n",
       "<title>140290794245520&#45;&gt;140290794414352+</title>\n",
       "<path fill=\"none\" stroke=\"black\" d=\"M541.87,-110.77C551.1,-109.25 559.95,-107.79 567.93,-106.48\"/>\n",
       "<polygon fill=\"black\" stroke=\"black\" points=\"568.29,-109.8 577.59,-104.72 567.16,-102.89 568.29,-109.8\"/>\n",
       "</g>\n",
       "<!-- 140290794245520* -->\n",
       "<g id=\"node6\" class=\"node\">\n",
       "<title>140290794245520*</title>\n",
       "<ellipse fill=\"none\" stroke=\"black\" cx=\"261\" cy=\"-128.5\" rx=\"27\" ry=\"18\"/>\n",
       "<text text-anchor=\"middle\" x=\"261\" y=\"-122.33\" font-family=\"Times,serif\" font-size=\"14.00\">*</text>\n",
       "</g>\n",
       "<!-- 140290794245520*&#45;&gt;140290794245520 -->\n",
       "<g id=\"edge3\" class=\"edge\">\n",
       "<title>140290794245520*&#45;&gt;140290794245520</title>\n",
       "<path fill=\"none\" stroke=\"black\" d=\"M288.21,-128.5C295.58,-128.5 304.1,-128.5 313.25,-128.5\"/>\n",
       "<polygon fill=\"black\" stroke=\"black\" points=\"313.24,-132 323.24,-128.5 313.24,-125 313.24,-132\"/>\n",
       "</g>\n",
       "<!-- 140290794415184 -->\n",
       "<g id=\"node7\" class=\"node\">\n",
       "<title>140290794415184</title>\n",
       "<polygon fill=\"none\" stroke=\"black\" points=\"1683.75,-81.5 1683.75,-117.5 1864.5,-117.5 1864.5,-81.5 1683.75,-81.5\"/>\n",
       "<text text-anchor=\"middle\" x=\"1693.62\" y=\"-93.7\" font-family=\"Times,serif\" font-size=\"14.00\"> </text>\n",
       "<polyline fill=\"none\" stroke=\"black\" points=\"1703.5,-82.25 1703.5,-117.5\"/>\n",
       "<text text-anchor=\"middle\" x=\"1743.38\" y=\"-93.7\" font-family=\"Times,serif\" font-size=\"14.00\">data 5.8284</text>\n",
       "<polyline fill=\"none\" stroke=\"black\" points=\"1783.25,-82.25 1783.25,-117.5\"/>\n",
       "<text text-anchor=\"middle\" x=\"1823.88\" y=\"-93.7\" font-family=\"Times,serif\" font-size=\"14.00\">grad 0.0429</text>\n",
       "</g>\n",
       "<!-- 140290768041040+ -->\n",
       "<g id=\"node11\" class=\"node\">\n",
       "<title>140290768041040+</title>\n",
       "<ellipse fill=\"none\" stroke=\"black\" cx=\"1929.75\" cy=\"-71.5\" rx=\"27\" ry=\"18\"/>\n",
       "<text text-anchor=\"middle\" x=\"1929.75\" y=\"-65.33\" font-family=\"Times,serif\" font-size=\"14.00\">+</text>\n",
       "</g>\n",
       "<!-- 140290794415184&#45;&gt;140290768041040+ -->\n",
       "<g id=\"edge16\" class=\"edge\">\n",
       "<title>140290794415184&#45;&gt;140290768041040+</title>\n",
       "<path fill=\"none\" stroke=\"black\" d=\"M1864.49,-83.21C1874.4,-81.41 1884.03,-79.65 1892.69,-78.07\"/>\n",
       "<polygon fill=\"black\" stroke=\"black\" points=\"1893.24,-81.35 1902.45,-76.11 1891.98,-74.46 1893.24,-81.35\"/>\n",
       "</g>\n",
       "<!-- 140290794415504+ -->\n",
       "<g id=\"node26\" class=\"node\">\n",
       "<title>140290794415504+</title>\n",
       "<ellipse fill=\"none\" stroke=\"black\" cx=\"1929.75\" cy=\"-126.5\" rx=\"27\" ry=\"18\"/>\n",
       "<text text-anchor=\"middle\" x=\"1929.75\" y=\"-120.33\" font-family=\"Times,serif\" font-size=\"14.00\">+</text>\n",
       "</g>\n",
       "<!-- 140290794415184&#45;&gt;140290794415504+ -->\n",
       "<g id=\"edge20\" class=\"edge\">\n",
       "<title>140290794415184&#45;&gt;140290794415504+</title>\n",
       "<path fill=\"none\" stroke=\"black\" d=\"M1864.49,-115.21C1874.31,-116.93 1883.85,-118.61 1892.44,-120.12\"/>\n",
       "<polygon fill=\"black\" stroke=\"black\" points=\"1891.68,-123.71 1902.14,-122 1892.9,-116.82 1891.68,-123.71\"/>\n",
       "</g>\n",
       "<!-- 140290794415184exp -->\n",
       "<g id=\"node8\" class=\"node\">\n",
       "<title>140290794415184exp</title>\n",
       "<ellipse fill=\"none\" stroke=\"black\" cx=\"1618.5\" cy=\"-99.5\" rx=\"27\" ry=\"18\"/>\n",
       "<text text-anchor=\"middle\" x=\"1618.5\" y=\"-93.33\" font-family=\"Times,serif\" font-size=\"14.00\">exp</text>\n",
       "</g>\n",
       "<!-- 140290794415184exp&#45;&gt;140290794415184 -->\n",
       "<g id=\"edge4\" class=\"edge\">\n",
       "<title>140290794415184exp&#45;&gt;140290794415184</title>\n",
       "<path fill=\"none\" stroke=\"black\" d=\"M1645.91,-99.5C1653.91,-99.5 1663.22,-99.5 1673.09,-99.5\"/>\n",
       "<polygon fill=\"black\" stroke=\"black\" points=\"1672.99,-103 1682.99,-99.5 1672.99,-96 1672.99,-103\"/>\n",
       "</g>\n",
       "<!-- 140290794245712 -->\n",
       "<g id=\"node9\" class=\"node\">\n",
       "<title>140290794245712</title>\n",
       "<polygon fill=\"none\" stroke=\"black\" points=\"711.75,-137.5 711.75,-173.5 895.5,-173.5 895.5,-137.5 711.75,-137.5\"/>\n",
       "<text text-anchor=\"middle\" x=\"723.12\" y=\"-149.7\" font-family=\"Times,serif\" font-size=\"14.00\">b</text>\n",
       "<polyline fill=\"none\" stroke=\"black\" points=\"734.5,-138.25 734.5,-173.5\"/>\n",
       "<text text-anchor=\"middle\" x=\"774.38\" y=\"-149.7\" font-family=\"Times,serif\" font-size=\"14.00\">data 6.8814</text>\n",
       "<polyline fill=\"none\" stroke=\"black\" points=\"814.25,-138.25 814.25,-173.5\"/>\n",
       "<text text-anchor=\"middle\" x=\"854.88\" y=\"-149.7\" font-family=\"Times,serif\" font-size=\"14.00\">grad 0.5000</text>\n",
       "</g>\n",
       "<!-- 140290794245712&#45;&gt;140290794414608+ -->\n",
       "<g id=\"edge27\" class=\"edge\">\n",
       "<title>140290794245712&#45;&gt;140290794414608+</title>\n",
       "<path fill=\"none\" stroke=\"black\" d=\"M895.34,-142.57C919.7,-139.09 944.68,-135.53 964.23,-132.74\"/>\n",
       "<polygon fill=\"black\" stroke=\"black\" points=\"964.66,-136.07 974.07,-131.2 963.68,-129.14 964.66,-136.07\"/>\n",
       "</g>\n",
       "<!-- 140290768041040 -->\n",
       "<g id=\"node10\" class=\"node\">\n",
       "<title>140290768041040</title>\n",
       "<polygon fill=\"none\" stroke=\"black\" points=\"1992.75,-53.5 1992.75,-89.5 2178,-89.5 2178,-53.5 1992.75,-53.5\"/>\n",
       "<text text-anchor=\"middle\" x=\"2002.62\" y=\"-65.7\" font-family=\"Times,serif\" font-size=\"14.00\"> </text>\n",
       "<polyline fill=\"none\" stroke=\"black\" points=\"2012.5,-54.25 2012.5,-89.5\"/>\n",
       "<text text-anchor=\"middle\" x=\"2052.38\" y=\"-65.7\" font-family=\"Times,serif\" font-size=\"14.00\">data 6.8284</text>\n",
       "<polyline fill=\"none\" stroke=\"black\" points=\"2092.25,-54.25 2092.25,-89.5\"/>\n",
       "<text text-anchor=\"middle\" x=\"2135.12\" y=\"-65.7\" font-family=\"Times,serif\" font-size=\"14.00\">grad &#45;0.1036</text>\n",
       "</g>\n",
       "<!-- 140290793669584**&#45;1 -->\n",
       "<g id=\"node22\" class=\"node\">\n",
       "<title>140290793669584**&#45;1</title>\n",
       "<ellipse fill=\"none\" stroke=\"black\" cx=\"2304.38\" cy=\"-71.5\" rx=\"27\" ry=\"18\"/>\n",
       "<text text-anchor=\"middle\" x=\"2304.38\" y=\"-65.33\" font-family=\"Times,serif\" font-size=\"14.00\">**&#45;1</text>\n",
       "</g>\n",
       "<!-- 140290768041040&#45;&gt;140290793669584**&#45;1 -->\n",
       "<g id=\"edge28\" class=\"edge\">\n",
       "<title>140290768041040&#45;&gt;140290793669584**&#45;1</title>\n",
       "<path fill=\"none\" stroke=\"black\" d=\"M2177.77,-71.5C2208.77,-71.5 2241.68,-71.5 2266.03,-71.5\"/>\n",
       "<polygon fill=\"black\" stroke=\"black\" points=\"2265.92,-75 2275.92,-71.5 2265.92,-68 2265.92,-75\"/>\n",
       "</g>\n",
       "<!-- 140290768041040+&#45;&gt;140290768041040 -->\n",
       "<g id=\"edge5\" class=\"edge\">\n",
       "<title>140290768041040+&#45;&gt;140290768041040</title>\n",
       "<path fill=\"none\" stroke=\"black\" d=\"M1957.16,-71.5C1964.56,-71.5 1973.07,-71.5 1982.12,-71.5\"/>\n",
       "<polygon fill=\"black\" stroke=\"black\" points=\"1981.95,-75 1991.95,-71.5 1981.95,-68 1981.95,-75\"/>\n",
       "</g>\n",
       "<!-- 140290794245264 -->\n",
       "<g id=\"node12\" class=\"node\">\n",
       "<title>140290794245264</title>\n",
       "<polygon fill=\"none\" stroke=\"black\" points=\"3.75,-55.5 3.75,-91.5 194.25,-91.5 194.25,-55.5 3.75,-55.5\"/>\n",
       "<text text-anchor=\"middle\" x=\"18.5\" y=\"-67.7\" font-family=\"Times,serif\" font-size=\"14.00\">x2</text>\n",
       "<polyline fill=\"none\" stroke=\"black\" points=\"33.25,-56.25 33.25,-91.5\"/>\n",
       "<text text-anchor=\"middle\" x=\"73.12\" y=\"-67.7\" font-family=\"Times,serif\" font-size=\"14.00\">data 0.0000</text>\n",
       "<polyline fill=\"none\" stroke=\"black\" points=\"113,-56.25 113,-91.5\"/>\n",
       "<text text-anchor=\"middle\" x=\"153.62\" y=\"-67.7\" font-family=\"Times,serif\" font-size=\"14.00\">grad 0.5000</text>\n",
       "</g>\n",
       "<!-- 140290794246096* -->\n",
       "<g id=\"node28\" class=\"node\">\n",
       "<title>140290794246096*</title>\n",
       "<ellipse fill=\"none\" stroke=\"black\" cx=\"261\" cy=\"-73.5\" rx=\"27\" ry=\"18\"/>\n",
       "<text text-anchor=\"middle\" x=\"261\" y=\"-67.33\" font-family=\"Times,serif\" font-size=\"14.00\">*</text>\n",
       "</g>\n",
       "<!-- 140290794245264&#45;&gt;140290794246096* -->\n",
       "<g id=\"edge21\" class=\"edge\">\n",
       "<title>140290794245264&#45;&gt;140290794246096*</title>\n",
       "<path fill=\"none\" stroke=\"black\" d=\"M194,-73.5C204.12,-73.5 213.93,-73.5 222.76,-73.5\"/>\n",
       "<polygon fill=\"black\" stroke=\"black\" points=\"222.74,-77 232.74,-73.5 222.74,-70 222.74,-77\"/>\n",
       "</g>\n",
       "<!-- 140290794415760 -->\n",
       "<g id=\"node13\" class=\"node\">\n",
       "<title>140290794415760</title>\n",
       "<polygon fill=\"none\" stroke=\"black\" points=\"1681.5,-26.5 1681.5,-62.5 1866.75,-62.5 1866.75,-26.5 1681.5,-26.5\"/>\n",
       "<text text-anchor=\"middle\" x=\"1691.38\" y=\"-38.7\" font-family=\"Times,serif\" font-size=\"14.00\"> </text>\n",
       "<polyline fill=\"none\" stroke=\"black\" points=\"1701.25,-27.25 1701.25,-62.5\"/>\n",
       "<text text-anchor=\"middle\" x=\"1741.12\" y=\"-38.7\" font-family=\"Times,serif\" font-size=\"14.00\">data 1.0000</text>\n",
       "<polyline fill=\"none\" stroke=\"black\" points=\"1781,-27.25 1781,-62.5\"/>\n",
       "<text text-anchor=\"middle\" x=\"1823.88\" y=\"-38.7\" font-family=\"Times,serif\" font-size=\"14.00\">grad &#45;0.1036</text>\n",
       "</g>\n",
       "<!-- 140290794415760&#45;&gt;140290768041040+ -->\n",
       "<g id=\"edge26\" class=\"edge\">\n",
       "<title>140290794415760&#45;&gt;140290768041040+</title>\n",
       "<path fill=\"none\" stroke=\"black\" d=\"M1866.71,-60.6C1875.79,-62.19 1884.59,-63.74 1892.57,-65.14\"/>\n",
       "<polygon fill=\"black\" stroke=\"black\" points=\"1891.79,-68.73 1902.24,-67.02 1893,-61.84 1891.79,-68.73\"/>\n",
       "</g>\n",
       "<!-- 140290794245328 -->\n",
       "<g id=\"node14\" class=\"node\">\n",
       "<title>140290794245328</title>\n",
       "<polygon fill=\"none\" stroke=\"black\" points=\"1.5,-165.5 1.5,-201.5 196.5,-201.5 196.5,-165.5 1.5,-165.5\"/>\n",
       "<text text-anchor=\"middle\" x=\"16.25\" y=\"-177.7\" font-family=\"Times,serif\" font-size=\"14.00\">x1</text>\n",
       "<polyline fill=\"none\" stroke=\"black\" points=\"31,-166.25 31,-201.5\"/>\n",
       "<text text-anchor=\"middle\" x=\"70.88\" y=\"-177.7\" font-family=\"Times,serif\" font-size=\"14.00\">data 2.0000</text>\n",
       "<polyline fill=\"none\" stroke=\"black\" points=\"110.75,-166.25 110.75,-201.5\"/>\n",
       "<text text-anchor=\"middle\" x=\"153.62\" y=\"-177.7\" font-family=\"Times,serif\" font-size=\"14.00\">grad &#45;1.5000</text>\n",
       "</g>\n",
       "<!-- 140290794245328&#45;&gt;140290794245520* -->\n",
       "<g id=\"edge18\" class=\"edge\">\n",
       "<title>140290794245328&#45;&gt;140290794245520*</title>\n",
       "<path fill=\"none\" stroke=\"black\" d=\"M170.28,-165.56C179.67,-162.75 189.12,-159.71 198,-156.5 208.31,-152.78 219.28,-148.08 229.1,-143.59\"/>\n",
       "<polygon fill=\"black\" stroke=\"black\" points=\"230.24,-146.46 237.82,-139.05 227.28,-140.11 230.24,-146.46\"/>\n",
       "</g>\n",
       "<!-- 140290794414992 -->\n",
       "<g id=\"node15\" class=\"node\">\n",
       "<title>140290794414992</title>\n",
       "<polygon fill=\"none\" stroke=\"black\" points=\"1374.75,-81.5 1374.75,-117.5 1555.5,-117.5 1555.5,-81.5 1374.75,-81.5\"/>\n",
       "<text text-anchor=\"middle\" x=\"1384.62\" y=\"-93.7\" font-family=\"Times,serif\" font-size=\"14.00\"> </text>\n",
       "<polyline fill=\"none\" stroke=\"black\" points=\"1394.5,-82.25 1394.5,-117.5\"/>\n",
       "<text text-anchor=\"middle\" x=\"1434.38\" y=\"-93.7\" font-family=\"Times,serif\" font-size=\"14.00\">data 1.7627</text>\n",
       "<polyline fill=\"none\" stroke=\"black\" points=\"1474.25,-82.25 1474.25,-117.5\"/>\n",
       "<text text-anchor=\"middle\" x=\"1514.88\" y=\"-93.7\" font-family=\"Times,serif\" font-size=\"14.00\">grad 0.2500</text>\n",
       "</g>\n",
       "<!-- 140290794414992&#45;&gt;140290794415184exp -->\n",
       "<g id=\"edge17\" class=\"edge\">\n",
       "<title>140290794414992&#45;&gt;140290794415184exp</title>\n",
       "<path fill=\"none\" stroke=\"black\" d=\"M1555.49,-99.5C1564.08,-99.5 1572.42,-99.5 1580.06,-99.5\"/>\n",
       "<polygon fill=\"black\" stroke=\"black\" points=\"1580.05,-103 1590.05,-99.5 1580.05,-96 1580.05,-103\"/>\n",
       "</g>\n",
       "<!-- 140290794414992*&#45;&gt;140290794414992 -->\n",
       "<g id=\"edge6\" class=\"edge\">\n",
       "<title>140290794414992*&#45;&gt;140290794414992</title>\n",
       "<path fill=\"none\" stroke=\"black\" d=\"M1339.12,-99.5C1346.55,-99.5 1355.1,-99.5 1364.17,-99.5\"/>\n",
       "<polygon fill=\"black\" stroke=\"black\" points=\"1364.02,-103 1374.02,-99.5 1364.02,-96 1364.02,-103\"/>\n",
       "</g>\n",
       "<!-- 140290794415376 -->\n",
       "<g id=\"node17\" class=\"node\">\n",
       "<title>140290794415376</title>\n",
       "<polygon fill=\"none\" stroke=\"black\" points=\"1681.5,-136.5 1681.5,-172.5 1866.75,-172.5 1866.75,-136.5 1681.5,-136.5\"/>\n",
       "<text text-anchor=\"middle\" x=\"1691.38\" y=\"-148.7\" font-family=\"Times,serif\" font-size=\"14.00\"> </text>\n",
       "<polyline fill=\"none\" stroke=\"black\" points=\"1701.25,-137.25 1701.25,-172.5\"/>\n",
       "<text text-anchor=\"middle\" x=\"1743.38\" y=\"-148.7\" font-family=\"Times,serif\" font-size=\"14.00\">data &#45;1.0000</text>\n",
       "<polyline fill=\"none\" stroke=\"black\" points=\"1785.5,-137.25 1785.5,-172.5\"/>\n",
       "<text text-anchor=\"middle\" x=\"1826.12\" y=\"-148.7\" font-family=\"Times,serif\" font-size=\"14.00\">grad 0.1464</text>\n",
       "</g>\n",
       "<!-- 140290794415376&#45;&gt;140290794415504+ -->\n",
       "<g id=\"edge24\" class=\"edge\">\n",
       "<title>140290794415376&#45;&gt;140290794415504+</title>\n",
       "<path fill=\"none\" stroke=\"black\" d=\"M1866.71,-137.81C1875.79,-136.15 1884.59,-134.55 1892.57,-133.09\"/>\n",
       "<polygon fill=\"black\" stroke=\"black\" points=\"1893.03,-136.39 1902.24,-131.15 1891.78,-129.5 1893.03,-136.39\"/>\n",
       "</g>\n",
       "<!-- 140290794414352 -->\n",
       "<g id=\"node18\" class=\"node\">\n",
       "<title>140290794414352</title>\n",
       "<polygon fill=\"none\" stroke=\"black\" points=\"668.25,-82.5 668.25,-118.5 939,-118.5 939,-82.5 668.25,-82.5\"/>\n",
       "<text text-anchor=\"middle\" x=\"720.88\" y=\"-94.7\" font-family=\"Times,serif\" font-size=\"14.00\">x1*w1 + x2*w2</text>\n",
       "<polyline fill=\"none\" stroke=\"black\" points=\"773.5,-83.25 773.5,-118.5\"/>\n",
       "<text text-anchor=\"middle\" x=\"815.62\" y=\"-94.7\" font-family=\"Times,serif\" font-size=\"14.00\">data &#45;6.0000</text>\n",
       "<polyline fill=\"none\" stroke=\"black\" points=\"857.75,-83.25 857.75,-118.5\"/>\n",
       "<text text-anchor=\"middle\" x=\"898.38\" y=\"-94.7\" font-family=\"Times,serif\" font-size=\"14.00\">grad 0.5000</text>\n",
       "</g>\n",
       "<!-- 140290794414352&#45;&gt;140290794414608+ -->\n",
       "<g id=\"edge19\" class=\"edge\">\n",
       "<title>140290794414352&#45;&gt;140290794414608+</title>\n",
       "<path fill=\"none\" stroke=\"black\" d=\"M935.34,-118.47C945.74,-119.9 955.6,-121.26 964.36,-122.46\"/>\n",
       "<polygon fill=\"black\" stroke=\"black\" points=\"963.82,-126.06 974.2,-123.95 964.77,-119.12 963.82,-126.06\"/>\n",
       "</g>\n",
       "<!-- 140290794414352+&#45;&gt;140290794414352 -->\n",
       "<g id=\"edge7\" class=\"edge\">\n",
       "<title>140290794414352+&#45;&gt;140290794414352</title>\n",
       "<path fill=\"none\" stroke=\"black\" d=\"M632.73,-100.5C639.96,-100.5 648.32,-100.5 657.38,-100.5\"/>\n",
       "<polygon fill=\"black\" stroke=\"black\" points=\"657.32,-104 667.32,-100.5 657.32,-97 657.32,-104\"/>\n",
       "</g>\n",
       "<!-- 140290794245392 -->\n",
       "<g id=\"node20\" class=\"node\">\n",
       "<title>140290794245392</title>\n",
       "<polygon fill=\"none\" stroke=\"black\" points=\"0,-110.5 0,-146.5 198,-146.5 198,-110.5 0,-110.5\"/>\n",
       "<text text-anchor=\"middle\" x=\"16.25\" y=\"-122.7\" font-family=\"Times,serif\" font-size=\"14.00\">w1</text>\n",
       "<polyline fill=\"none\" stroke=\"black\" points=\"32.5,-111.25 32.5,-146.5\"/>\n",
       "<text text-anchor=\"middle\" x=\"74.62\" y=\"-122.7\" font-family=\"Times,serif\" font-size=\"14.00\">data &#45;3.0000</text>\n",
       "<polyline fill=\"none\" stroke=\"black\" points=\"116.75,-111.25 116.75,-146.5\"/>\n",
       "<text text-anchor=\"middle\" x=\"157.38\" y=\"-122.7\" font-family=\"Times,serif\" font-size=\"14.00\">grad 1.0000</text>\n",
       "</g>\n",
       "<!-- 140290794245392&#45;&gt;140290794245520* -->\n",
       "<g id=\"edge25\" class=\"edge\">\n",
       "<title>140290794245392&#45;&gt;140290794245520*</title>\n",
       "<path fill=\"none\" stroke=\"black\" d=\"M197.68,-128.5C206.51,-128.5 215.04,-128.5 222.8,-128.5\"/>\n",
       "<polygon fill=\"black\" stroke=\"black\" points=\"222.58,-132 232.58,-128.5 222.58,-125 222.58,-132\"/>\n",
       "</g>\n",
       "<!-- 140290793669584 -->\n",
       "<g id=\"node21\" class=\"node\">\n",
       "<title>140290793669584</title>\n",
       "<polygon fill=\"none\" stroke=\"black\" points=\"2430.75,-57.5 2430.75,-93.5 2611.5,-93.5 2611.5,-57.5 2430.75,-57.5\"/>\n",
       "<text text-anchor=\"middle\" x=\"2440.62\" y=\"-69.7\" font-family=\"Times,serif\" font-size=\"14.00\"> </text>\n",
       "<polyline fill=\"none\" stroke=\"black\" points=\"2450.5,-58.25 2450.5,-93.5\"/>\n",
       "<text text-anchor=\"middle\" x=\"2490.38\" y=\"-69.7\" font-family=\"Times,serif\" font-size=\"14.00\">data 0.1464</text>\n",
       "<polyline fill=\"none\" stroke=\"black\" points=\"2530.25,-58.25 2530.25,-93.5\"/>\n",
       "<text text-anchor=\"middle\" x=\"2570.88\" y=\"-69.7\" font-family=\"Times,serif\" font-size=\"14.00\">grad 4.8284</text>\n",
       "</g>\n",
       "<!-- 140290793669584&#45;&gt;140290794314256* -->\n",
       "<g id=\"edge22\" class=\"edge\">\n",
       "<title>140290793669584&#45;&gt;140290794314256*</title>\n",
       "<path fill=\"none\" stroke=\"black\" d=\"M2611.49,-89.08C2620.35,-90.42 2628.95,-91.73 2636.79,-92.92\"/>\n",
       "<polygon fill=\"black\" stroke=\"black\" points=\"2636.25,-96.53 2646.66,-94.57 2637.3,-89.61 2636.25,-96.53\"/>\n",
       "</g>\n",
       "<!-- 140290793669584**&#45;1&#45;&gt;140290793669584 -->\n",
       "<g id=\"edge8\" class=\"edge\">\n",
       "<title>140290793669584**&#45;1&#45;&gt;140290793669584</title>\n",
       "<path fill=\"none\" stroke=\"black\" d=\"M2331.71,-71.99C2354.14,-72.41 2387.87,-73.04 2420.61,-73.65\"/>\n",
       "<polygon fill=\"black\" stroke=\"black\" points=\"2420.13,-77.16 2430.19,-73.84 2420.26,-70.16 2420.13,-77.16\"/>\n",
       "</g>\n",
       "<!-- 140290794414928 -->\n",
       "<g id=\"node23\" class=\"node\">\n",
       "<title>140290794414928</title>\n",
       "<polygon fill=\"none\" stroke=\"black\" points=\"1066.5,-54.5 1066.5,-90.5 1247.25,-90.5 1247.25,-54.5 1066.5,-54.5\"/>\n",
       "<text text-anchor=\"middle\" x=\"1076.38\" y=\"-66.7\" font-family=\"Times,serif\" font-size=\"14.00\"> </text>\n",
       "<polyline fill=\"none\" stroke=\"black\" points=\"1086.25,-55.25 1086.25,-90.5\"/>\n",
       "<text text-anchor=\"middle\" x=\"1126.12\" y=\"-66.7\" font-family=\"Times,serif\" font-size=\"14.00\">data 2.0000</text>\n",
       "<polyline fill=\"none\" stroke=\"black\" points=\"1166,-55.25 1166,-90.5\"/>\n",
       "<text text-anchor=\"middle\" x=\"1206.62\" y=\"-66.7\" font-family=\"Times,serif\" font-size=\"14.00\">grad 0.2203</text>\n",
       "</g>\n",
       "<!-- 140290794414928&#45;&gt;140290794414992* -->\n",
       "<g id=\"edge12\" class=\"edge\">\n",
       "<title>140290794414928&#45;&gt;140290794414992*</title>\n",
       "<path fill=\"none\" stroke=\"black\" d=\"M1247.25,-88.28C1256.77,-89.97 1266.02,-91.6 1274.37,-93.08\"/>\n",
       "<polygon fill=\"black\" stroke=\"black\" points=\"1273.7,-96.69 1284.16,-94.98 1274.92,-89.79 1273.7,-96.69\"/>\n",
       "</g>\n",
       "<!-- 140290794245584 -->\n",
       "<g id=\"node24\" class=\"node\">\n",
       "<title>140290794245584</title>\n",
       "<polygon fill=\"none\" stroke=\"black\" points=\"2.25,-0.5 2.25,-36.5 195.75,-36.5 195.75,-0.5 2.25,-0.5\"/>\n",
       "<text text-anchor=\"middle\" x=\"18.5\" y=\"-12.7\" font-family=\"Times,serif\" font-size=\"14.00\">w2</text>\n",
       "<polyline fill=\"none\" stroke=\"black\" points=\"34.75,-1.25 34.75,-36.5\"/>\n",
       "<text text-anchor=\"middle\" x=\"74.62\" y=\"-12.7\" font-family=\"Times,serif\" font-size=\"14.00\">data 1.0000</text>\n",
       "<polyline fill=\"none\" stroke=\"black\" points=\"114.5,-1.25 114.5,-36.5\"/>\n",
       "<text text-anchor=\"middle\" x=\"155.12\" y=\"-12.7\" font-family=\"Times,serif\" font-size=\"14.00\">grad 0.0000</text>\n",
       "</g>\n",
       "<!-- 140290794245584&#45;&gt;140290794246096* -->\n",
       "<g id=\"edge15\" class=\"edge\">\n",
       "<title>140290794245584&#45;&gt;140290794246096*</title>\n",
       "<path fill=\"none\" stroke=\"black\" d=\"M170.28,-36.44C179.67,-39.25 189.12,-42.29 198,-45.5 208.31,-49.22 219.28,-53.92 229.1,-58.41\"/>\n",
       "<polygon fill=\"black\" stroke=\"black\" points=\"227.28,-61.89 237.82,-62.95 230.24,-55.54 227.28,-61.89\"/>\n",
       "</g>\n",
       "<!-- 140290794415504 -->\n",
       "<g id=\"node25\" class=\"node\">\n",
       "<title>140290794415504</title>\n",
       "<polygon fill=\"none\" stroke=\"black\" points=\"2214,-108.5 2214,-144.5 2394.75,-144.5 2394.75,-108.5 2214,-108.5\"/>\n",
       "<text text-anchor=\"middle\" x=\"2223.88\" y=\"-120.7\" font-family=\"Times,serif\" font-size=\"14.00\"> </text>\n",
       "<polyline fill=\"none\" stroke=\"black\" points=\"2233.75,-109.25 2233.75,-144.5\"/>\n",
       "<text text-anchor=\"middle\" x=\"2273.62\" y=\"-120.7\" font-family=\"Times,serif\" font-size=\"14.00\">data 4.8284</text>\n",
       "<polyline fill=\"none\" stroke=\"black\" points=\"2313.5,-109.25 2313.5,-144.5\"/>\n",
       "<text text-anchor=\"middle\" x=\"2354.12\" y=\"-120.7\" font-family=\"Times,serif\" font-size=\"14.00\">grad 0.1464</text>\n",
       "</g>\n",
       "<!-- 140290794415504&#45;&gt;140290794314256* -->\n",
       "<g id=\"edge23\" class=\"edge\">\n",
       "<title>140290794415504&#45;&gt;140290794314256*</title>\n",
       "<path fill=\"none\" stroke=\"black\" d=\"M2394.46,-119.94C2455.55,-115.4 2538.44,-109.19 2611.5,-103.5 2619.57,-102.87 2628.23,-102.18 2636.44,-101.52\"/>\n",
       "<polygon fill=\"black\" stroke=\"black\" points=\"2636.57,-104.94 2646.26,-100.65 2636.01,-97.96 2636.57,-104.94\"/>\n",
       "</g>\n",
       "<!-- 140290794415504+&#45;&gt;140290794415504 -->\n",
       "<g id=\"edge9\" class=\"edge\">\n",
       "<title>140290794415504+&#45;&gt;140290794415504</title>\n",
       "<path fill=\"none\" stroke=\"black\" d=\"M1957.25,-126.5C2007.82,-126.5 2120.46,-126.5 2203.58,-126.5\"/>\n",
       "<polygon fill=\"black\" stroke=\"black\" points=\"2203.33,-130 2213.33,-126.5 2203.33,-123 2203.33,-130\"/>\n",
       "</g>\n",
       "<!-- 140290794246096 -->\n",
       "<g id=\"node27\" class=\"node\">\n",
       "<title>140290794246096</title>\n",
       "<polygon fill=\"none\" stroke=\"black\" points=\"326.25,-55.5 326.25,-91.5 540,-91.5 540,-55.5 326.25,-55.5\"/>\n",
       "<text text-anchor=\"middle\" x=\"352.62\" y=\"-67.7\" font-family=\"Times,serif\" font-size=\"14.00\">x2*w2</text>\n",
       "<polyline fill=\"none\" stroke=\"black\" points=\"379,-56.25 379,-91.5\"/>\n",
       "<text text-anchor=\"middle\" x=\"418.88\" y=\"-67.7\" font-family=\"Times,serif\" font-size=\"14.00\">data 0.0000</text>\n",
       "<polyline fill=\"none\" stroke=\"black\" points=\"458.75,-56.25 458.75,-91.5\"/>\n",
       "<text text-anchor=\"middle\" x=\"499.38\" y=\"-67.7\" font-family=\"Times,serif\" font-size=\"14.00\">grad 0.5000</text>\n",
       "</g>\n",
       "<!-- 140290794246096&#45;&gt;140290794414352+ -->\n",
       "<g id=\"edge11\" class=\"edge\">\n",
       "<title>140290794246096&#45;&gt;140290794414352+</title>\n",
       "<path fill=\"none\" stroke=\"black\" d=\"M539.93,-90.29C549.89,-91.87 559.45,-93.39 568.01,-94.75\"/>\n",
       "<polygon fill=\"black\" stroke=\"black\" points=\"567.21,-98.32 577.64,-96.43 568.31,-91.41 567.21,-98.32\"/>\n",
       "</g>\n",
       "<!-- 140290794246096*&#45;&gt;140290794246096 -->\n",
       "<g id=\"edge10\" class=\"edge\">\n",
       "<title>140290794246096*&#45;&gt;140290794246096</title>\n",
       "<path fill=\"none\" stroke=\"black\" d=\"M288.21,-73.5C296.23,-73.5 305.63,-73.5 315.71,-73.5\"/>\n",
       "<polygon fill=\"black\" stroke=\"black\" points=\"315.43,-77 325.43,-73.5 315.43,-70 315.43,-77\"/>\n",
       "</g>\n",
       "</g>\n",
       "</svg>\n"
      ],
      "text/plain": [
       "<graphviz.graphs.Digraph at 0x7f97fef4c790>"
      ]
     },
     "execution_count": 164,
     "metadata": {},
     "output_type": "execute_result"
    }
   ],
   "source": [
    "draw_dot(o)"
   ]
  },
  {
   "cell_type": "code",
   "execution_count": 1,
   "metadata": {},
   "outputs": [
    {
     "name": "stdout",
     "output_type": "stream",
     "text": [
      "0.7071066904050358\n",
      "---\n",
      "x2 0.5000001283844369\n",
      "w2 0.0\n",
      "x1 -1.5000003851533106\n",
      "w1 1.0000002567688737\n"
     ]
    }
   ],
   "source": [
    "import torch\n",
    "x1 = torch.Tensor([2.0]).double(); x1.requires_grad = True\n",
    "w1 = torch.Tensor([-3.0]).double(); w1.requires_grad = True\n",
    "x2 = torch.Tensor([0.0]).double(); x2.requires_grad = True\n",
    "w2 = torch.Tensor([1.0]).double(); w2.requires_grad = True\n",
    "\n",
    "b = torch.Tensor([6.8813735870195432]).double(); b.requires_grad = True\n",
    "\n",
    "n = x1*w1 + x2*w2 + b\n",
    "o = torch.tanh(n)\n",
    "\n",
    "print(o.data.item())\n",
    "o.backward()\n",
    "\n",
    "print('---')\n",
    "print('x2', x2.grad.item())\n",
    "print('w2', w2.grad.item())\n",
    "print('x1', x1.grad.item())\n",
    "print('w1', w1.grad.item())"
   ]
  },
  {
   "cell_type": "code",
   "execution_count": 5,
   "metadata": {},
   "outputs": [],
   "source": [
    "import random"
   ]
  },
  {
   "cell_type": "code",
   "execution_count": 60,
   "metadata": {},
   "outputs": [
    {
     "data": {
      "text/plain": [
       "Value(data=0.3780234537554569)"
      ]
     },
     "execution_count": 60,
     "metadata": {},
     "output_type": "execute_result"
    }
   ],
   "source": [
    "class Neuron:\n",
    "    \n",
    "    def __init__(self, nin):\n",
    "        self.w = [Value(random.uniform(-1, 1)) for _ in range(nin)]\n",
    "        self.b = Value(random.uniform(-1, 1))\n",
    "        \n",
    "    def __call__(self, x):\n",
    "        act = sum((wi*xi for wi, xi in zip(self.w, x)), self.b)\n",
    "        out = act.tanh()\n",
    "        return out\n",
    "    \n",
    "class Layer:\n",
    "    \n",
    "    def __init__(self, nin, nout):\n",
    "        self.neurons = [Neuron(nin) for _ in range(nout)]\n",
    "    \n",
    "    def __call__(self, x):\n",
    "        out = [n(x) for n in self.neurons]\n",
    "        return out[0] if len(out) == 1 else out\n",
    "    \n",
    "class MLP:\n",
    "    \n",
    "    def __init__(self, nin, nouts):\n",
    "        sz = [nin] + nouts\n",
    "        self.layers = [Layer(sz[i], sz[i+1]) for i in range(len(nouts))]\n",
    "    \n",
    "    def __call__(self, x):\n",
    "        for layer in self.layers:\n",
    "            x = layer(x)\n",
    "        return x\n",
    "\n",
    "x = [2.0, 3.0, -1.0]\n",
    "n = MLP(3, [4, 4, 1])\n",
    "n(x)"
   ]
  },
  {
   "cell_type": "code",
   "execution_count": 62,
   "metadata": {},
   "outputs": [
    {
     "data": {
      "text/plain": [
       "[Value(data=0.3780234537554569),\n",
       " Value(data=0.7838804838303098),\n",
       " Value(data=0.6553972885011419),\n",
       " Value(data=0.38382453218431306)]"
      ]
     },
     "execution_count": 62,
     "metadata": {},
     "output_type": "execute_result"
    }
   ],
   "source": [
    "xs = [\n",
    "    [2.0, 3.0, -1.0],\n",
    "    [3.0, -1.0, 0.5], \n",
    "    [0.5, 1.0, 1.0], \n",
    "    [1.0, 1.0, -1.0]\n",
    "]\n",
    "ys = [1.0, -1.0, -1.0, 1.0] # desired targets\n",
    "\n",
    "ypred = [n(x) for x in xs]\n",
    "ypred"
   ]
  },
  {
   "cell_type": "code",
   "execution_count": 89,
   "metadata": {},
   "outputs": [
    {
     "data": {
      "text/plain": [
       "Value(data=6.689096794583764, grad=0)"
      ]
     },
     "execution_count": 89,
     "metadata": {},
     "output_type": "execute_result"
    }
   ],
   "source": [
    "loss = sum((ygt + -1.0* yout)**2 for ygt, yout in zip(ys, ypred))\n",
    "loss"
   ]
  },
  {
   "cell_type": "code",
   "execution_count": 90,
   "metadata": {},
   "outputs": [],
   "source": [
    "loss.backward()"
   ]
  },
  {
   "cell_type": "code",
   "execution_count": 91,
   "metadata": {},
   "outputs": [
    {
     "data": {
      "text/plain": [
       "0.21767628747755072"
      ]
     },
     "execution_count": 91,
     "metadata": {},
     "output_type": "execute_result"
    }
   ],
   "source": [
    "n.layers[0].neurons[0].w[0].grad"
   ]
  },
  {
   "cell_type": "markdown",
   "metadata": {},
   "source": [
    "## PyTorch"
   ]
  },
  {
   "cell_type": "code",
   "execution_count": null,
   "metadata": {},
   "outputs": [],
   "source": []
  }
 ],
 "metadata": {
  "kernelspec": {
   "display_name": "Python 3",
   "language": "python",
   "name": "python3"
  },
  "language_info": {
   "codemirror_mode": {
    "name": "ipython",
    "version": 3
   },
   "file_extension": ".py",
   "mimetype": "text/x-python",
   "name": "python",
   "nbconvert_exporter": "python",
   "pygments_lexer": "ipython3",
   "version": "3.7.7"
  }
 },
 "nbformat": 4,
 "nbformat_minor": 4
}
